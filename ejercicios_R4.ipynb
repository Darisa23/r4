{
  "nbformat": 4,
  "nbformat_minor": 0,
  "metadata": {
    "colab": {
      "provenance": [],
      "authorship_tag": "ABX9TyMvW2/kYtgH4XTW5gzXInHI",
      "include_colab_link": true
    },
    "kernelspec": {
      "name": "python3",
      "display_name": "Python 3"
    },
    "language_info": {
      "name": "python"
    }
  },
  "cells": [
    {
      "cell_type": "markdown",
      "metadata": {
        "id": "view-in-github",
        "colab_type": "text"
      },
      "source": [
        "<a href=\"https://colab.research.google.com/github/darisacrispetera/r4/blob/main/ejercicios_R4.ipynb\" target=\"_parent\"><img src=\"https://colab.research.google.com/assets/colab-badge.svg\" alt=\"Open In Colab\"/></a>"
      ]
    },
    {
      "cell_type": "code",
      "execution_count": 3,
      "metadata": {
        "colab": {
          "base_uri": "https://localhost:8080/",
          "height": 106
        },
        "id": "wES3UOc-62UA",
        "outputId": "5b9f74f8-df32-47c0-dfd2-4985261de570"
      },
      "outputs": [
        {
          "output_type": "error",
          "ename": "SyntaxError",
          "evalue": "invalid syntax (<ipython-input-3-0e1b594cabac>, line 3)",
          "traceback": [
            "\u001b[0;36m  File \u001b[0;32m\"<ipython-input-3-0e1b594cabac>\"\u001b[0;36m, line \u001b[0;32m3\u001b[0m\n\u001b[0;31m    class Main {\u001b[0m\n\u001b[0m               ^\u001b[0m\n\u001b[0;31mSyntaxError\u001b[0m\u001b[0;31m:\u001b[0m invalid syntax\n"
          ]
        }
      ],
      "source": [
        "import org.apache.beam.sdk.Pipeline;\n",
        "import java.until.Scanner;\n",
        "class Main {\n",
        "    public static void main(String[] args) {\n",
        "        Scanner Leer = new Scanner(System.in);\n",
        "        System.out.print(\"digite su edad: \");\n",
        "        int edad = Leer.nextInt();\n",
        "        System.out.print(\"si usted es mujer digite el número 1, si es hombre el número 2: \");\n",
        "        float sexo = Leer.nextFloat();\n",
        "        if(sexo==1){\n",
        "           float pps = (float)(220-edad)/10;\n",
        "           System.out.print(\"el número de pulsaciones que debe tener por cada 10 segundos es de:\"+ pps);\n",
        "        }\n",
        "        else{\n",
        "            float pps = (float) (210-edad)/10;\n",
        "            System.out.print(\"el número de pulsaciones que debe tener por cada 10 segundos es de:\"+ pps);\n",
        "        }\n",
        "    }\n",
        "}"
      ]
    },
    {
      "cell_type": "code",
      "source": [
        "import java.util.Scanner;\n",
        "\n",
        "public class r4 {\n",
        "    public static void main(String[] args) {\n",
        "        Scanner scanner = new Scanner(System.in);\n",
        "\n",
        "        System.out.println(\"Ingrese los ingresos del comprador:\");\n",
        "        double ingresos = scanner.nextDouble();\n",
        "\n",
        "        System.out.println(\"Ingrese el costo de la casa:\");\n",
        "        double costoCasa = scanner.nextDouble();\n",
        "\n",
        "        double enganche;\n",
        "        double resto;\n",
        "\n",
        "        if (ingresos >= 8000) {\n",
        "            // Enganche del 15% y pago en 10 años\n",
        "            enganche = 0.15 * costoCasa;\n",
        "            resto = costoCasa - enganche;\n",
        "            int numPagos = 10;\n",
        "            double pagoMensual = resto / (numPagos * 12);\n",
        "\n",
        "            System.out.println(\"El enganche es: $\" + enganche);\n",
        "            System.out.println(\"El pago mensual a 10 años es: $\" + pagoMensual);\n",
        "        } else {\n",
        "            // Enganche del 30% y pago en 7 años\n",
        "            enganche = 0.30 * costoCasa;\n",
        "            resto = costoCasa - enganche;\n",
        "            int numPagos = 7;\n",
        "            double pagoMensual = resto / (numPagos * 12);\n",
        "\n",
        "            System.out.println(\"El enganche es: $\" + enganche);\n",
        "            System.out.println(\"El pago mensual a 7 años es: $\" + pagoMensual);\n",
        "        }\n",
        "    }\n",
        "}"
      ],
      "metadata": {
        "colab": {
          "base_uri": "https://localhost:8080/",
          "height": 106
        },
        "id": "KRQpsrq67sBc",
        "outputId": "21c65005-b4c8-47b8-bd74-833272739c57"
      },
      "execution_count": 4,
      "outputs": [
        {
          "output_type": "error",
          "ename": "SyntaxError",
          "evalue": "invalid syntax (<ipython-input-4-45a40011b3a8>, line 3)",
          "traceback": [
            "\u001b[0;36m  File \u001b[0;32m\"<ipython-input-4-45a40011b3a8>\"\u001b[0;36m, line \u001b[0;32m3\u001b[0m\n\u001b[0;31m    public class r4 {\u001b[0m\n\u001b[0m           ^\u001b[0m\n\u001b[0;31mSyntaxError\u001b[0m\u001b[0;31m:\u001b[0m invalid syntax\n"
          ]
        }
      ]
    }
  ]
}