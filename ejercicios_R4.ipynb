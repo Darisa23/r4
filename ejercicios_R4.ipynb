{
  "nbformat": 4,
  "nbformat_minor": 0,
  "metadata": {
    "colab": {
      "provenance": [],
      "authorship_tag": "ABX9TyOrxsRcjK+rKZnZ3Kt4B8Uk",
      "include_colab_link": true
    },
    "kernelspec": {
      "name": "python3",
      "display_name": "Python 3"
    },
    "language_info": {
      "name": "python"
    }
  },
  "cells": [
    {
      "cell_type": "markdown",
      "metadata": {
        "id": "view-in-github",
        "colab_type": "text"
      },
      "source": [
        "<a href=\"https://colab.research.google.com/github/darisacrispetera/r4/blob/main/ejercicios_R4.ipynb\" target=\"_parent\"><img src=\"https://colab.research.google.com/assets/colab-badge.svg\" alt=\"Open In Colab\"/></a>"
      ]
    },
    {
      "cell_type": "code",
      "execution_count": 2,
      "metadata": {
        "colab": {
          "base_uri": "https://localhost:8080/",
          "height": 106
        },
        "id": "wES3UOc-62UA",
        "outputId": "7cc05781-2ee4-47bf-fe47-aa9be9e183ab"
      },
      "outputs": [
        {
          "output_type": "error",
          "ename": "SyntaxError",
          "evalue": "invalid syntax (<ipython-input-2-ea76cb5dd9ab>, line 2)",
          "traceback": [
            "\u001b[0;36m  File \u001b[0;32m\"<ipython-input-2-ea76cb5dd9ab>\"\u001b[0;36m, line \u001b[0;32m2\u001b[0m\n\u001b[0;31m    class Main {\u001b[0m\n\u001b[0m               ^\u001b[0m\n\u001b[0;31mSyntaxError\u001b[0m\u001b[0;31m:\u001b[0m invalid syntax\n"
          ]
        }
      ],
      "source": [
        "import java.until.Scanner;\n",
        "class Main {\n",
        "    public static void main(String[] args) {\n",
        "        Scanner Leer = new Scanner(System.in);\n",
        "        System.out.print(\"digite su edad: \");\n",
        "        int edad = Leer.nextInt();\n",
        "        System.out.print(\"si usted es mujer digite el número 1, si es hombre el número 2: \");\n",
        "        float sexo = Leer.nextFloat();\n",
        "        if(sexo==1){\n",
        "           float pps = (float)(220-edad)/10;\n",
        "           System.out.print(\"el número de pulsaciones que debe tener por cada 10 segundos es de:\"+ pps);\n",
        "        }\n",
        "        else{\n",
        "            float pps = (float) (210-edad)/10;\n",
        "            System.out.print(\"el número de pulsaciones que debe tener por cada 10 segundos es de:\"+ pps);\n",
        "        }\n",
        "    }\n",
        "}"
      ]
    }
  ]
}